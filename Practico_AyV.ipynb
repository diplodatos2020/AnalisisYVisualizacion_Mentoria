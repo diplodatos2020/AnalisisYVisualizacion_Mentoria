{
 "cells": [
  {
   "cell_type": "markdown",
   "metadata": {},
   "source": [
    "# **Practico Mentoria - Analisis y Visualizacion de Datos**"
   ]
  },
  {
   "cell_type": "markdown",
   "metadata": {},
   "source": [
    "Se propone la elaboración de un informe o presentación, en formato estatico:\n",
    "* PDF\n",
    "* Markdowns\n",
    "* Google Docs\n",
    "\n",
    "Que responda a las cuestiones solicitadas en cada seccion de esta **Jupyter Notebook**.\n",
    "\n",
    "La comunicación debe estar apuntada a un público técnico pero sin conocimiento del tema particular, como por ejemplo, sus compañeros de clase.  \n",
    "Por lo cual debe estar redactado de forma consisa y comprensible."
   ]
  },
  {
   "cell_type": "markdown",
   "metadata": {},
   "source": [
    "## **Análisis General**\n",
    "\n",
    "* ¿Cuántas *features* posee el dataset?¿Que representa cada una?\n",
    "\n",
    "* Identificar *features* objetivo"
   ]
  },
  {
   "cell_type": "markdown",
   "metadata": {},
   "source": [
    "## **Análisis Estadístico**\n",
    "\n",
    "* ¿Cuáles son las variables númericas?\n",
    "\n",
    "* Calcular los siguentes estadisticos de la feature `CAPACIDAD_MAXIMA_GBS`:\n",
    "    - Moda\n",
    "    - Media\n",
    "    - Mediana\n",
    "    - Desviacion Estandar\n",
    "    - Minimo y Maximo\n",
    "\n",
    "\n",
    "* Seleccionar al menos 2 features del dataset:\n",
    "    - ¿Existen outliers para estas features?\n",
    "    - ¿Hay valores faltantes?\n",
    "    - ¿Hay valores negativos?\n",
    "    - ¿Que decisión tomarían para completar o eliminar estos outliers y faltantes?\n",
    "\n",
    "* ¿Como se distribuyen las mediciones hechas por `ID_EQUIPO`? ¿Responden a alguna distribución conocida?\n",
    "\n",
    "* Realizar un Análisis de Outliers (Valores Atípicos) de la variable `LATENCIA_MS`.\n",
    "\n",
    "* Elija almenos 2 `PUNTO_MEDICION`:\n",
    "    - ¿Cómo se comporta el trafico de entrada/salida en dicho punto de medición?\n",
    "    - ¿Qué relaciones observamos segun el dia o la hora?\n",
    "\n",
    "\n",
    "**Adicione los gráficos o tablas que considere oportuno para graficar los puntos anteriores.**"
   ]
  },
  {
   "cell_type": "code",
   "execution_count": null,
   "metadata": {},
   "outputs": [],
   "source": []
  }
 ],
 "metadata": {
  "kernelspec": {
   "display_name": "Python 3",
   "language": "python",
   "name": "python3"
  },
  "language_info": {
   "codemirror_mode": {
    "name": "ipython",
    "version": 3
   },
   "file_extension": ".py",
   "mimetype": "text/x-python",
   "name": "python",
   "nbconvert_exporter": "python",
   "pygments_lexer": "ipython3",
   "version": "3.6.10"
  }
 },
 "nbformat": 4,
 "nbformat_minor": 4
}
